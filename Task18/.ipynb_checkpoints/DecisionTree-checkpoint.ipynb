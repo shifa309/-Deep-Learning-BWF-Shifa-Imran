{
 "cells": [
  {
   "cell_type": "code",
   "execution_count": 4,
   "id": "48cf5542",
   "metadata": {},
   "outputs": [
    {
     "name": "stdout",
     "output_type": "stream",
     "text": [
      "Accuracy: 0.75\n"
     ]
    },
    {
     "data": {
      "text/plain": [
       "[Text(0.5, 0.875, 'X[1] <= 42000.0\\ngini = 0.48\\nsamples = 15\\nvalue = [6, 9]'),\n",
       " Text(0.3, 0.625, 'X[1] <= 31000.0\\ngini = 0.32\\nsamples = 5\\nvalue = [4, 1]'),\n",
       " Text(0.2, 0.375, 'X[1] <= 29000.0\\ngini = 0.5\\nsamples = 2\\nvalue = [1, 1]'),\n",
       " Text(0.1, 0.125, 'gini = 0.0\\nsamples = 1\\nvalue = [1, 0]'),\n",
       " Text(0.3, 0.125, 'gini = 0.0\\nsamples = 1\\nvalue = [0, 1]'),\n",
       " Text(0.4, 0.375, 'gini = 0.0\\nsamples = 3\\nvalue = [3, 0]'),\n",
       " Text(0.7, 0.625, 'X[0] <= 56.0\\ngini = 0.32\\nsamples = 10\\nvalue = [2, 8]'),\n",
       " Text(0.6, 0.375, 'gini = 0.0\\nsamples = 7\\nvalue = [0, 7]'),\n",
       " Text(0.8, 0.375, 'X[0] <= 61.0\\ngini = 0.444\\nsamples = 3\\nvalue = [2, 1]'),\n",
       " Text(0.7, 0.125, 'gini = 0.0\\nsamples = 2\\nvalue = [2, 0]'),\n",
       " Text(0.9, 0.125, 'gini = 0.0\\nsamples = 1\\nvalue = [0, 1]')]"
      ]
     },
     "execution_count": 4,
     "metadata": {},
     "output_type": "execute_result"
    },
    {
     "data": {
      "image/png": "[encoded data removed]",
      "text/plain": [
       "<Figure size 432x288 with 1 Axes>"
      ]
     },
     "metadata": {
      "needs_background": "light"
     },
     "output_type": "display_data"
    }
   ],
   "source": [
    "#classifier\n",
    "from sklearn.tree import DecisionTreeClassifier\n",
    "from sklearn.model_selection import train_test_split\n",
    "from sklearn import metrics\n",
    "import pandas as pd\n",
    "from sklearn import tree\n",
    "\n",
    "data = pd.read_csv('sample_data.csv')\n",
    "\n",
    "# Split the data into features and target\n",
    "X = data.drop('Bought', axis=1)\n",
    "y = data['Bought']\n",
    "\n",
    "# Split the data into training and testing sets\n",
    "X_train, X_test, y_train, y_test = train_test_split(X, y, test_size=0.2, random_state=42)\n",
    "\n",
    "decision = DecisionTreeClassifier()\n",
    "\n",
    "# Train the classifier on the training data\n",
    "decision.fit(X_train, y_train)\n",
    "\n",
    "# Make predictions on the testing data\n",
    "y_pred = decision.predict(X_test)\n",
    "\n",
    "# Evaluate the performance \n",
    "accuracy = metrics.accuracy_score(y_test, y_pred)\n",
    "print('Accuracy:', accuracy)\n",
    "\n",
    "tree.plot_tree(decision)\n"
   ]
  },
  {
   "cell_type": "code",
   "execution_count": 5,
   "id": "d3335977",
   "metadata": {},
   "outputs": [
    {
     "data": {
      "text/plain": [
       "'Source.gv.pdf'"
      ]
     },
     "execution_count": 5,
     "metadata": {},
     "output_type": "execute_result"
    }
   ],
   "source": [
    "import graphviz\n",
    "from sklearn.tree import export_graphviz\n",
    "\n",
    "# Export the decision tree as a Graphviz dot file\n",
    "dot_data = export_graphviz(decision, out_file=None, \n",
    "                           feature_names=X.columns,  \n",
    "                           class_names=['No', 'Yes'],  \n",
    "                           filled=True, rounded=True,  \n",
    "                           special_characters=True)\n",
    "graph = graphviz.Source(dot_data)\n",
    "\n",
    "# Display the decision tree visualization\n",
    "graph.view()\n"
   ]
  },
  {
   "cell_type": "code",
   "execution_count": 20,
   "id": "fa78a343",
   "metadata": {},
   "outputs": [
    {
     "name": "stdout",
     "output_type": "stream",
     "text": [
      "R^2 score of 1st regressor 0.6385853988559739\n",
      "R^2 score of 2nd regressor: 0.6117875866734315\n"
     ]
    }
   ],
   "source": [
    "#regressor\n",
    "from sklearn.tree import DecisionTreeRegressor\n",
    "from sklearn.model_selection import train_test_split\n",
    "from sklearn.metrics import r2_score\n",
    "import pandas as pd\n",
    "\n",
    "data = pd.read_csv('sample_data_reg.csv')\n",
    "\n",
    "X = data.drop('y', axis=1)\n",
    "y = data['y']\n",
    "\n",
    "# Split the data into training and testing sets\n",
    "X_train, X_test, y_train, y_test = train_test_split(X, y, test_size=0.2, random_state=42)\n",
    "\n",
    "regressor1 = DecisionTreeRegressor(max_depth=3)\n",
    "regressor2 = DecisionTreeRegressor(max_depth=7)\n",
    "\n",
    "\n",
    "# Train the regressor on the training data\n",
    "regressor1.fit(X_train, y_train)\n",
    "\n",
    "# Make predictions on the testing data\n",
    "y_pred1 = regressor1.predict(X_test)\n",
    "\n",
    "# Evaluate the performance \n",
    "r2 = r2_score(y_test, y_pred1)\n",
    "print('R^2 score of 1st regressor', r2)\n",
    "\n",
    "\n",
    "# Train the regressor on the training data\n",
    "regressor2.fit(X_train, y_train)\n",
    "\n",
    "# Make predictions on the testing data\n",
    "y_pred2 = regressor2.predict(X_test)\n",
    "\n",
    "\n",
    "# Evaluate the performance \n",
    "r2 = r2_score(y_test, y_pred2)\n",
    "print('R^2 score of 2nd regressor:', r2)\n",
    "\n"
   ]
  },
  {
   "cell_type": "code",
   "execution_count": null,
   "id": "ba670211",
   "metadata": {},
   "outputs": [],
   "source": []
  }
 ],
 "metadata": {
  "kernelspec": {
   "display_name": "Python 3 (ipykernel)",
   "language": "python",
   "name": "python3"
  },
  "language_info": {
   "codemirror_mode": {
    "name": "ipython",
    "version": 3
   },
   "file_extension": ".py",
   "mimetype": "text/x-python",
   "name": "python",
   "nbconvert_exporter": "python",
   "pygments_lexer": "ipython3",
   "version": "3.9.12"
  }
 },
 "nbformat": 4,
 "nbformat_minor": 5
}
