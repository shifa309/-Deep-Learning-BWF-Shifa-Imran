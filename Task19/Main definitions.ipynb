{
 "cells": [
  {
   "cell_type": "markdown",
   "id": "96b28bcf",
   "metadata": {},
   "source": [
    "Deep Learning is a subfield of Machine Learning that involves training artificial neural networks with multiple layers to make predictions or decisions based on input data.\n",
    "\n",
    "Neural Networks are a type of machine learning model that are loosely modeled after the structure of the brain. They consist of layers of interconnected \"neurons\" that process input data and make predictions.\n",
    "\n",
    "Machine Learning is a subfield of artificial intelligence that involves the development of algorithms that can learn from and make predictions or decisions based on data, without being explicitly programmed to do so.\n",
    "\n",
    "Artificial Intelligence (AI) refers to the ability of machines to perform tasks that would normally require human intelligence, such as understanding natural language or recognizing patterns in data.\n",
    "\n",
    "The weights of a neural network are the parameters that are learned during the training process.\n",
    "\n",
    "Layers are the building blocks of a neural network. They consist of multiple neurons that process input data and pass output to the next layer. There are several types of layers, including input, output, and hidden layers.\n",
    "\n",
    "Backpropagation is an algorithm used to train neural networks. It involves calculating the gradient of the loss function with respect to the weights and biases of the network, and using this gradient to update the parameters iteratively through stochastic gradient descent.\n",
    "\n",
    "A loss function—How the network will be able to measure its performance on the training data, and thus how it will be able to steer itself in the right direc-\n",
    "tion.\n",
    "\n",
    "An optimizer—The mechanism through which the network will update itself based on the data it sees and its loss function.\n",
    "\n",
    "Tensor is a container for data—almost always numerical data. So, it’s a container for numbers.\n",
    "\n",
    "A tensor that contains only one number is called a scalar (or scalar tensor, or 0-dimensional tensor, or 0D tensor). In Numpy, a float32 or float64 number is a scalar tensor (or scalar array).\n",
    "\n",
    "The number of axes of a tensor is also called its rank.\n",
    "\n",
    "An array of numbers is called a vector, or 1D tensor. A 1D tensor is said to have exactly\n",
    "one axis.\n",
    "\n",
    "An array of vectors is a matrix, or 2D tensor. A matrix has two axes (often referred to\n",
    "rows and columns).\n",
    "\n",
    "Shape—This is a tuple of integers that describes how many dimensions the tensor has along each axis.\n",
    "\n",
    "Selecting specific elements in a tensor is called tensor slicing.\n",
    "\n",
    "The relu operation and addition are element-wise operations: operations that are applied independently to each entry in the tensors being considered.\n",
    "\n",
    "Broadcasting consists of two steps:\n",
    "1 Axes (called broadcast axes) are added to the smaller tensor to match the ndim of\n",
    "the larger tensor.\n",
    "2 The smaller tensor is repeated alongside these new axes to match the full shape\n",
    "of the larger tensor.\n",
    "\n",
    "The tensor dot operation, also known as tensor multiplication or tensor contraction, is a mathematical operation that takes two tensors as inputs and returns a new tensor. It involves multiplying corresponding elements of the two tensors and summing them over one or more axes.\n",
    "\n",
    "Tensor reshaping is the process of changing the shape of a tensor without changing its contents. In NumPy, you can reshape a tensor using the reshape() function. The reshape() function takes the tensor as its input and a new shape as a tuple. The new shape specifies the dimensions of the reshaped tensor. "
   ]
  },
  {
   "cell_type": "code",
   "execution_count": 4,
   "id": "f930398e",
   "metadata": {},
   "outputs": [
    {
     "name": "stdout",
     "output_type": "stream",
     "text": [
      "Scalar Tensor:\n",
      " 5\n",
      "\n",
      "Vector Tensor:\n",
      " [1 2 3]\n",
      "\n",
      "Matrix Tensor:\n",
      " [[1 2]\n",
      " [3 4]]\n",
      "\n",
      "3D Tensor:\n",
      " [[[1 2]\n",
      "  [3 4]]\n",
      "\n",
      " [[5 6]\n",
      "  [7 8]]]\n",
      "(2, 2, 2)\n",
      "\n",
      "Random Tensor:\n",
      " [[ 0.25518382 -1.95563119  0.7238253 ]\n",
      " [ 0.95039945  0.39518478  0.09200406]\n",
      " [-2.13410949  0.50882358 -1.96460493]]\n"
     ]
    }
   ],
   "source": [
    "import numpy as np\n",
    "\n",
    "# Create a scalar tensor\n",
    "scalar_tensor = np.array(5)\n",
    "print(\"Scalar Tensor:\\n\", scalar_tensor)\n",
    "\n",
    "# Create a vector tensor\n",
    "vector_tensor = np.array([1, 2, 3])\n",
    "print(\"\\nVector Tensor:\\n\", vector_tensor)\n",
    "\n",
    "# Create a matrix tensor\n",
    "matrix_tensor = np.array([[1, 2], [3, 4]])\n",
    "print(\"\\nMatrix Tensor:\\n\", matrix_tensor)\n",
    "\n",
    "# Create a 3D tensor\n",
    "tensor_3d = np.array([[[1, 2], [3, 4]], [[5, 6], [7, 8]]])\n",
    "print(\"\\n3D Tensor:\\n\", tensor_3d)\n",
    "print(tensor_3d.shape)\n",
    "\n",
    "# Create a random tensor (as a NumPy array)\n",
    "random_tensor = np.random.normal(size=(3, 3))\n",
    "print(\"\\nRandom Tensor:\\n\", random_tensor)\n"
   ]
  },
  {
   "cell_type": "code",
   "execution_count": 5,
   "id": "d8971885",
   "metadata": {},
   "outputs": [
    {
     "name": "stdout",
     "output_type": "stream",
     "text": [
      "Original Tensor Shape: (2, 3, 4)\n",
      "Reshaped Tensor Shape: (2, 12)\n"
     ]
    }
   ],
   "source": [
    "import numpy as np\n",
    "\n",
    "# Create a 3D tensor\n",
    "tensor_3d = np.array([[[1, 2, 3, 4], [5, 6, 7, 8], [9, 10, 11, 12]],\n",
    "                      [[13, 14, 15, 16], [17, 18, 19, 20], [21, 22, 23, 24]]])\n",
    "\n",
    "# Reshape the tensor to a 2D tensor\n",
    "tensor_2d = tensor_3d.reshape((2, 12))\n",
    "\n",
    "# Print the shapes of the tensors\n",
    "print(\"Original Tensor Shape:\", tensor_3d.shape)\n",
    "print(\"Reshaped Tensor Shape:\", tensor_2d.shape)\n"
   ]
  },
  {
   "cell_type": "code",
   "execution_count": 1,
   "id": "58ee532c",
   "metadata": {},
   "outputs": [
    {
     "name": "stdout",
     "output_type": "stream",
     "text": [
      "[[19 22]\n",
      " [43 50]]\n"
     ]
    }
   ],
   "source": [
    "import numpy as np\n",
    "\n",
    "a = np.array([[1, 2], [3, 4]])\n",
    "b = np.array([[5, 6], [7, 8]])\n",
    "\n",
    "result = np.dot(a, b)\n",
    "\n",
    "print(result)\n"
   ]
  },
  {
   "cell_type": "code",
   "execution_count": null,
   "id": "4dcd2970",
   "metadata": {},
   "outputs": [],
   "source": []
  }
 ],
 "metadata": {
  "kernelspec": {
   "display_name": "Python 3 (ipykernel)",
   "language": "python",
   "name": "python3"
  },
  "language_info": {
   "codemirror_mode": {
    "name": "ipython",
    "version": 3
   },
   "file_extension": ".py",
   "mimetype": "text/x-python",
   "name": "python",
   "nbconvert_exporter": "python",
   "pygments_lexer": "ipython3",
   "version": "3.9.12"
  }
 },
 "nbformat": 4,
 "nbformat_minor": 5
}
