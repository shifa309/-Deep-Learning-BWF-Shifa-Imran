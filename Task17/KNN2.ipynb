{
 "cells": [
  {
   "cell_type": "code",
   "execution_count": 13,
   "id": "0d5c4532",
   "metadata": {},
   "outputs": [
    {
     "name": "stdout",
     "output_type": "stream",
     "text": [
      "Accuracy for k=3: 0.79\n",
      "Accuracy for k=5: 0.71\n",
      "Accuracy for k=7: 0.75\n"
     ]
    }
   ],
   "source": [
    "#KNN implementation from scratch\n",
    "\n",
    "import pandas as pd\n",
    "import numpy as np\n",
    "\n",
    "# Load data\n",
    "train_file = \"TrainingSet.xlsx\"\n",
    "test_file = \"TestingSet.xlsx\"\n",
    "\n",
    "train_df = pd.read_excel(train_file)\n",
    "test_df = pd.read_excel(test_file)\n",
    "\n",
    "# Split data into features and labels\n",
    "train_features = train_df.iloc[:, :-1].values\n",
    "train_labels = train_df.iloc[:, -1].astype('category').cat.codes.values\n",
    "test_features = test_df.iloc[:, :-1].values\n",
    "\n",
    "# Normalize data\n",
    "train_features = (train_features - train_features.mean(axis=0)) / train_features.std(axis=0)\n",
    "test_features = (test_features - train_features.mean(axis=0)) / train_features.std(axis=0)\n",
    "\n",
    "# Split training data into training set and validation set\n",
    "num_train = train_features.shape[0]\n",
    "num_train_valid = int(0.8 * num_train)\n",
    "\n",
    "train_valid_features = train_features[:num_train_valid, :]\n",
    "train_valid_labels = train_labels[:num_train_valid]\n",
    "test_valid_features = train_features[num_train_valid:, :]\n",
    "test_valid_labels = train_labels[num_train_valid:]\n",
    "\n",
    "# Define KNN function\n",
    "def knn(train_features, train_labels, test_features, k):\n",
    "    distances = np.sum((train_features - test_features)**2, axis=1)\n",
    "    indices = np.argsort(distances)[:k]\n",
    "    k_labels = train_labels[indices]\n",
    "    counts = np.bincount(k_labels)\n",
    "    predicted_label = np.argmax(counts)\n",
    "    return predicted_label\n",
    "\n",
    "# Create a categorical object with the original labels as categories\n",
    "original_labels = train_df.iloc[:, -1].astype('category').cat.categories\n",
    "\n",
    "# Evaluate accuracy for different values of k\n",
    "for k in [3, 5, 7]:\n",
    "    num_correct = 0\n",
    "    predicted_labels = []\n",
    "    for i in range(test_valid_features.shape[0]):\n",
    "        predicted_label = knn(train_valid_features, train_valid_labels, test_valid_features[i, :], k)\n",
    "        predicted_labels.append(original_labels[predicted_label])\n",
    "        if predicted_label == test_valid_labels[i]:\n",
    "            num_correct += 1\n",
    "    accuracy = num_correct / test_valid_features.shape[0]\n",
    "    print(\"Accuracy for k={}: {:.2f}\".format(k, accuracy))\n",
    "    \n",
    "    # Store predicted labels and accuracy in Excel sheet\n",
    "    writer = pd.ExcelWriter(\"Predicted_labels_k{}.xlsx\".format(k))\n",
    "    results_df = pd.DataFrame({\"Predicted Label\": predicted_labels, \"Accuracy\": accuracy})\n",
    "    results_df.to_excel(writer, sheet_name=\"Results\", index=False)\n",
    "    writer.save()\n"
   ]
  },
  {
   "cell_type": "code",
   "execution_count": 13,
   "id": "0a9983cb",
   "metadata": {},
   "outputs": [
    {
     "name": "stdout",
     "output_type": "stream",
     "text": [
      "Accuracy for k=3: 0.92\n",
      "Accuracy for k=5: 0.92\n",
      "Accuracy for k=7: 0.92\n"
     ]
    }
   ],
   "source": [
    "#standard implementation\n",
    "\n",
    "import pandas as pd\n",
    "import numpy as np\n",
    "from sklearn.neighbors import KNeighborsClassifier\n",
    "from sklearn.preprocessing import StandardScaler\n",
    "from sklearn.model_selection import train_test_split\n",
    "from sklearn.metrics import accuracy_score\n",
    "\n",
    "# Load data\n",
    "train_file = \"TrainingSet.xlsx\"\n",
    "test_file = \"TestingSet.xlsx\"\n",
    "\n",
    "train_df = pd.read_excel(train_file)\n",
    "test_df = pd.read_excel(test_file)\n",
    "\n",
    "# Split data into features and labels\n",
    "train_features = train_df.iloc[:, :-1].values\n",
    "train_labels = train_df.iloc[:, -1].values\n",
    "test_features = test_df.iloc[:, :-1].values\n",
    "\n",
    "# Normalize data\n",
    "scaler = StandardScaler()\n",
    "train_features = scaler.fit_transform(train_features)\n",
    "test_features = scaler.transform(test_features)\n",
    "\n",
    "# Split training data into training set and validation set\n",
    "X_train, X_valid, y_train, y_valid = train_test_split(train_features, train_labels, test_size=0.2, random_state=42)\n",
    "\n",
    "# Define KNN classifier\n",
    "knn = KNeighborsClassifier(n_neighbors=7)\n",
    "\n",
    "# Train classifier on training set\n",
    "knn.fit(X_train, y_train)\n",
    "\n",
    "# Predict labels for validation set\n",
    "y_pred = knn.predict(X_valid)\n",
    "\n",
    "# Calculate accuracy for different values of k\n",
    "for k in [3, 5, 7]:\n",
    "    knn = KNeighborsClassifier(n_neighbors=k)\n",
    "    knn.fit(X_train, y_train)\n",
    "    y_pred = knn.predict(X_valid)\n",
    "    accuracy = accuracy_score(y_valid, y_pred)\n",
    "    print(\"Accuracy for k={}: {:.2f}\".format(k, accuracy))\n"
   ]
  },
  {
   "cell_type": "code",
   "execution_count": null,
   "id": "d74355fc",
   "metadata": {},
   "outputs": [],
   "source": []
  }
 ],
 "metadata": {
  "kernelspec": {
   "display_name": "Python 3 (ipykernel)",
   "language": "python",
   "name": "python3"
  },
  "language_info": {
   "codemirror_mode": {
    "name": "ipython",
    "version": 3
   },
   "file_extension": ".py",
   "mimetype": "text/x-python",
   "name": "python",
   "nbconvert_exporter": "python",
   "pygments_lexer": "ipython3",
   "version": "3.9.12"
  }
 },
 "nbformat": 4,
 "nbformat_minor": 5
}
