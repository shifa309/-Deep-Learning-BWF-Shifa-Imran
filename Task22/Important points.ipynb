{
 "cells": [
  {
   "cell_type": "markdown",
   "id": "707dc0ca",
   "metadata": {},
   "source": [
    "Supervised Learning:\n",
    "\n",
    "   In this type of machine learning, the algorithm is trained on a labeled dataset, where the input data is accompanied by the correct output. The algorithm learns to predict the output based on the input data. \n",
    "For example, predicting whether an email is spam or not based on the email's content and header information.\n",
    "another example could include Sentiment analysis where given a set of labeled text data, the algorithm is trained to predict the sentiment of new, unseen text data as positive, negative, or neutral. For example, analyzing customer reviews of a product to determine whether they are positive or negative.\n",
    "    \n",
    "    "
   ]
  },
  {
   "cell_type": "markdown",
   "id": "c3b9c77a",
   "metadata": {},
   "source": [
    "Unsupervised Learning:\n",
    "     In unsupervised learning, the algorithm is not given any labeled data. Instead, it must identify patterns or structure within the input data. One example of unsupervised learning is clustering, where the algorithm groups similar data points together. For example, clustering customer data to identify different customer segments based on their buying behavior."
   ]
  },
  {
   "cell_type": "markdown",
   "id": "9d1c2625",
   "metadata": {},
   "source": [
    "Self-Supervised Learning: \n",
    "     Self-supervised learning, is a type of machine learning where the algorithm is trained to learn representations of the input data without any explicit supervision. The idea behind self-supervised learning is to create a supervisory signal from the input data itself, instead of relying on labeled data. The algorithm is trained to predict some property of the input data, such as its rotation, color, or context, and then use the learned representations to solve downstream tasks.\n",
    "        "
   ]
  },
  {
   "cell_type": "markdown",
   "id": "e7f66b6a",
   "metadata": {},
   "source": [
    "Reinforcement learning:\n",
    "     This type of machine learning is used to train an algorithm to make a sequence of decisions. The algorithm learns from its past experiences and feedback from the environment in which it operates. For example, training a robot to navigate a maze, where the robot receives a reward for reaching the end of the maze and a penalty for hitting a wall. The algorithm learns to make decisions that maximize the reward and minimize the penalty, mostly used in games"
   ]
  }
 ],
 "metadata": {
  "kernelspec": {
   "display_name": "Python 3 (ipykernel)",
   "language": "python",
   "name": "python3"
  },
  "language_info": {
   "codemirror_mode": {
    "name": "ipython",
    "version": 3
   },
   "file_extension": ".py",
   "mimetype": "text/x-python",
   "name": "python",
   "nbconvert_exporter": "python",
   "pygments_lexer": "ipython3",
   "version": "3.9.12"
  }
 },
 "nbformat": 4,
 "nbformat_minor": 5
}
