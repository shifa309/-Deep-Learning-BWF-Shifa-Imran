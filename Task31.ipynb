{
 "cells": [
  {
   "cell_type": "markdown",
   "id": "33b3ca57",
   "metadata": {},
   "source": [
    "# Word Embeddings"
   ]
  },
  {
   "cell_type": "code",
   "execution_count": 5,
   "id": "d37d77e1",
   "metadata": {},
   "outputs": [
    {
     "name": "stdout",
     "output_type": "stream",
     "text": [
      "Epoch 1/10\n",
      "1/1 [==============================] - 0s 288ms/step - loss: 0.7017 - accuracy: 0.5000\n",
      "Epoch 2/10\n",
      "1/1 [==============================] - 0s 4ms/step - loss: 0.6937 - accuracy: 0.5000\n",
      "Epoch 3/10\n",
      "1/1 [==============================] - 0s 3ms/step - loss: 0.6857 - accuracy: 0.7500\n",
      "Epoch 4/10\n",
      "1/1 [==============================] - 0s 3ms/step - loss: 0.6778 - accuracy: 0.7500\n",
      "Epoch 5/10\n",
      "1/1 [==============================] - 0s 4ms/step - loss: 0.6699 - accuracy: 0.7500\n",
      "Epoch 6/10\n",
      "1/1 [==============================] - 0s 4ms/step - loss: 0.6621 - accuracy: 0.7500\n",
      "Epoch 7/10\n",
      "1/1 [==============================] - 0s 3ms/step - loss: 0.6544 - accuracy: 0.7500\n",
      "Epoch 8/10\n",
      "1/1 [==============================] - 0s 4ms/step - loss: 0.6467 - accuracy: 0.7500\n",
      "Epoch 9/10\n",
      "1/1 [==============================] - 0s 3ms/step - loss: 0.6390 - accuracy: 1.0000\n",
      "Epoch 10/10\n",
      "1/1 [==============================] - 0s 3ms/step - loss: 0.6314 - accuracy: 1.0000\n",
      "dogs: [ 0.00084899  0.02886885  0.01225422  0.04337583 -0.04735482 -0.00454806\n",
      " -0.01492348 -0.0284707   0.00774545 -0.0067721   0.03819466  0.03934718\n",
      " -0.02652754 -0.00620783  0.01914973  0.03379353  0.01725792 -0.0103227\n",
      "  0.03549    -0.0261047   0.04054442 -0.00225128 -0.02207246 -0.02192011\n",
      "  0.00592014 -0.00140027  0.01632207 -0.05546015  0.04528481  0.03471757\n",
      "  0.01728509  0.02303324 -0.02915417 -0.01438073  0.000265   -0.0402812\n",
      "  0.00466427 -0.01200503  0.02774332 -0.04319276  0.05428652  0.01938293\n",
      "  0.00253034 -0.02495598 -0.02465945 -0.03704041 -0.04861404  0.05438879\n",
      "  0.0075311   0.0340723 ]\n",
      "i: [-0.02709726 -0.01242061  0.04468083  0.03993003  0.00110203 -0.05445359\n",
      "  0.02447828 -0.0516522   0.0369086  -0.0018054  -0.04071338 -0.02453099\n",
      " -0.04029856 -0.02694175  0.02990818 -0.03827854  0.01807734  0.05510321\n",
      "  0.03667333 -0.02075337  0.00527388 -0.01960937 -0.02694623 -0.03664468\n",
      " -0.05457728 -0.01386478  0.0027017  -0.04013582 -0.01491675 -0.02594443\n",
      "  0.01519823  0.0299675   0.02709054 -0.020776   -0.04478139 -0.04266215\n",
      "  0.001097    0.01075717 -0.03249032  0.03640097 -0.0094866   0.04234169\n",
      " -0.00880785  0.05833238  0.01710073  0.00665952  0.04854625 -0.03228447\n",
      "  0.00208794 -0.02920679]\n",
      "cats: [-0.04439015  0.01855851  0.05381354  0.04415083 -0.01931132 -0.0471312\n",
      "  0.02031029 -0.02289075  0.0178     -0.04973829 -0.02345769  0.05207048\n",
      "  0.00151097  0.00780585  0.02810792 -0.04201731 -0.00028452 -0.03796555\n",
      " -0.03721247  0.01737128 -0.01006245 -0.05486392  0.04934944 -0.03435875\n",
      "  0.02802448 -0.01136441  0.0530033   0.01945041 -0.03776973  0.03184133\n",
      " -0.03902841  0.03141476  0.01538024  0.03588048 -0.00835223  0.00666402\n",
      " -0.00795224  0.03788157  0.03555579 -0.03252488 -0.028795    0.04864157\n",
      " -0.05756817 -0.02556802  0.03320322 -0.04468587  0.02662044 -0.02952222\n",
      " -0.02412659  0.03485211]\n",
      "are: [ 0.03783105  0.00494089  0.02553689 -0.00561821  0.00956209 -0.01434281\n",
      "  0.0265127  -0.02775278 -0.01318938  0.00505809  0.02816161  0.01769896\n",
      "  0.03955283 -0.01528166 -0.02417659 -0.00931344  0.0040378   0.02843464\n",
      " -0.00525855 -0.01784513  0.01218693 -0.03837395 -0.05026698  0.04484707\n",
      "  0.00350068  0.02238028  0.03802321 -0.00455199 -0.01368642 -0.01969356\n",
      "  0.00674611  0.02444635 -0.01918035 -0.05065609  0.05917424  0.0419938\n",
      " -0.03621266 -0.0118273   0.03092907  0.02178534  0.02107196 -0.05793213\n",
      " -0.03578572  0.01332587 -0.00963081  0.05210483  0.00170005  0.04562555\n",
      " -0.0526817   0.02689265]\n",
      "love: [ 0.01734691  0.00899674 -0.0058395  -0.01299645 -0.0339178  -0.03432351\n",
      "  0.05531184  0.03832102  0.02806015  0.04752529  0.02306552  0.0531371\n",
      "  0.03704087 -0.0491803   0.04606517 -0.02443936  0.01900695 -0.00802959\n",
      "  0.02392815  0.05275919  0.01022046  0.04662959  0.02231118 -0.00728511\n",
      " -0.01536709 -0.00763551 -0.00445316 -0.00192304  0.04850736 -0.0035363\n",
      "  0.01237211  0.0378315   0.01116127  0.01683524  0.03951247 -0.01545909\n",
      " -0.00085726  0.00579141 -0.00216336  0.00422569  0.02658461  0.01480364\n",
      " -0.01120428  0.05612163  0.02714697 -0.04467417 -0.02646705 -0.05325924\n",
      " -0.03993352  0.01024578]\n",
      "adore: [ 0.03671395 -0.02819666  0.0543483   0.0309893   0.00977343  0.01158487\n",
      "  0.05741974 -0.04407352  0.01981389  0.03647527  0.01947937  0.05577708\n",
      "  0.03001722 -0.02367122  0.01327879  0.00263348 -0.03942078 -0.03314681\n",
      " -0.00443069  0.02120047  0.04749286  0.01740668 -0.01051521 -0.00746974\n",
      " -0.03497975 -0.01611343 -0.0491976  -0.02605627  0.03362552  0.00018592\n",
      "  0.02686165 -0.01481193  0.02020941  0.04560992  0.0066635   0.01876316\n",
      " -0.04382732 -0.0289411  -0.00147788  0.03063557  0.01112486 -0.02330476\n",
      "  0.00590485  0.05187073 -0.02663164  0.00515191  0.00529154  0.03890127\n",
      "  0.00405097  0.02404926]\n",
      "the: [ 0.02305988 -0.0479969   0.03776361 -0.0066567   0.02511441 -0.02891198\n",
      " -0.02015902 -0.00631323  0.01655666  0.01172457 -0.04130037 -0.01831529\n",
      " -0.0258126  -0.03655139 -0.04549323  0.0453951   0.00696279 -0.01637645\n",
      "  0.03063017  0.02571881 -0.02844135  0.00141832  0.0252159  -0.00578675\n",
      "  0.03484897 -0.00285456 -0.01802699 -0.00875849 -0.03715084  0.01978782\n",
      " -0.01607189 -0.01220127  0.02099634  0.00952    -0.04638676 -0.03095286\n",
      " -0.01990769 -0.04797147 -0.02032978 -0.01952604  0.04507246  0.00265201\n",
      "  0.03937411  0.02811813 -0.03730175 -0.03198345 -0.05779932  0.01579345\n",
      "  0.03841932 -0.05373891]\n",
      "best: [ 0.00426881  0.03761581  0.02004008 -0.02516871  0.03011741 -0.03833227\n",
      " -0.03548173  0.0205834  -0.01304489 -0.02695303 -0.01649965 -0.04897223\n",
      " -0.00027033 -0.04490382 -0.01974817  0.00611051  0.01015605  0.03439545\n",
      "  0.02415116  0.0232484  -0.0409801   0.05957633 -0.03240163 -0.00386122\n",
      "  0.00133496  0.01326114 -0.0198651  -0.03253994  0.03182866  0.02054384\n",
      "  0.02470378  0.02867439 -0.01961054 -0.05999985  0.03204175 -0.00936478\n",
      "  0.02564617 -0.01565357 -0.00755655  0.05436115  0.00048554 -0.04551832\n",
      " -0.05007187  0.00926526  0.0337496  -0.01192579 -0.00334179 -0.04141689\n",
      "  0.03470091  0.01136556]\n",
      "and: [ 0.00931704  0.01015678  0.00400056 -0.03050738  0.04778738 -0.01952386\n",
      " -0.031175   -0.03517507 -0.05396637  0.02200061  0.01278213 -0.01122745\n",
      " -0.02308848  0.02685059 -0.02352968 -0.03200456 -0.02251861  0.0217926\n",
      " -0.03426264 -0.02887535  0.02386296  0.02322484  0.04761224  0.03889712\n",
      " -0.03390658 -0.00927186 -0.050102    0.01982182  0.02048751 -0.01469841\n",
      " -0.01473585 -0.04252922 -0.03765384  0.00111937  0.01888992 -0.05410189\n",
      " -0.03896856 -0.02915306  0.00500369  0.0336018   0.00818942 -0.04030933\n",
      " -0.03747213 -0.00100843  0.0222951  -0.03525084  0.03563213 -0.035576\n",
      "  0.00637076 -0.00261588]\n",
      "friends: [ 0.05798415  0.02481264  0.00825846  0.02380251 -0.02348001  0.03035881\n",
      "  0.01473014 -0.01910077 -0.01636929  0.05128361 -0.00999734  0.0013784\n",
      " -0.0530367   0.0358026  -0.00528533 -0.01145763 -0.01712137  0.02734716\n",
      "  0.01491108 -0.00036472  0.02152829 -0.0102997   0.02142794  0.01588677\n",
      " -0.00535291  0.01710964  0.00760671  0.04258376 -0.03948237  0.02148748\n",
      "  0.03311132 -0.03439882  0.03507032  0.01855669  0.01288412 -0.04202056\n",
      "  0.01772478  0.04231203 -0.04226999 -0.00766857  0.02389782  0.00882309\n",
      " -0.04702815 -0.00804227 -0.01878302 -0.03680971 -0.02841708  0.03128461\n",
      "  0.02003199  0.01617417]\n"
     ]
    }
   ],
   "source": [
    "import tensorflow as tf\n",
    "from tensorflow.keras.layers import Embedding, Flatten, Dense\n",
    "from tensorflow.keras.models import Sequential\n",
    "from tensorflow.keras.preprocessing.text import Tokenizer\n",
    "from tensorflow.keras.preprocessing.sequence import pad_sequences\n",
    "import numpy as np\n",
    "\n",
    "#input data\n",
    "texts = [\n",
    "    'I love cats',\n",
    "    'I adore dogs',\n",
    "    'Dogs are the best',\n",
    "    'Cats and dogs are friends'\n",
    "]\n",
    "\n",
    "# Tokenize the input texts \n",
    "# convert them into sequences of integers\n",
    "tokenizer = Tokenizer()\n",
    "tokenizer.fit_on_texts(texts)\n",
    "sequences = tokenizer.texts_to_sequences(texts)\n",
    "\n",
    "# Vocabulary size is determined by the number of unique words in the input data\n",
    "vocabulary_size = len(tokenizer.word_index) + 1\n",
    "\n",
    "# Padding the sequences to make them of equal length\n",
    "max_sequence_length = max(len(seq) for seq in sequences)\n",
    "padded_sequences = pad_sequences(sequences, maxlen=max_sequence_length)\n",
    "\n",
    "#  embedding dimension\n",
    "embedding_dim = 50\n",
    "\n",
    "# Model building\n",
    "model = Sequential()\n",
    "model.add(Embedding(vocabulary_size, embedding_dim, input_length=max_sequence_length))\n",
    "model.add(Flatten())\n",
    "model.add(Dense(1, activation='sigmoid'))\n",
    "\n",
    "model.compile(optimizer='adam', loss='binary_crossentropy', metrics=['accuracy'])\n",
    "\n",
    "# Convert target labels to NumPy array\n",
    "labels = np.array([1, 1, 0, 0])\n",
    "\n",
    "# Train the model\n",
    "model.fit(padded_sequences, labels, epochs=10)\n",
    "\n",
    "\n",
    "embedding_matrix = model.layers[0].get_weights()[0]\n",
    "\n",
    "# Print the word embeddings\n",
    "for word, index in tokenizer.word_index.items():\n",
    "    print(f\"{word}: {embedding_matrix[index]}\")\n"
   ]
  },
  {
   "cell_type": "markdown",
   "id": "6be8bf66",
   "metadata": {},
   "source": [
    "# IMDB data - Embedding layer"
   ]
  },
  {
   "cell_type": "code",
   "execution_count": 6,
   "id": "d23dd59f",
   "metadata": {},
   "outputs": [],
   "source": [
    "from keras.layers import Embedding\n",
    "embedding_layer = Embedding(1000, 64)"
   ]
  },
  {
   "cell_type": "code",
   "execution_count": 11,
   "id": "26e2eb3f",
   "metadata": {},
   "outputs": [],
   "source": [
    "from keras.datasets import imdb\n",
    "from keras import preprocessing\n",
    "from tensorflow.keras.preprocessing.sequence import pad_sequences\n",
    "\n",
    "max_features = 10000\n",
    "maxlen = 20\n",
    "(x_train, y_train), (x_test, y_test) = imdb.load_data(num_words=max_features)\n",
    "x_train = pad_sequences(x_train, maxlen=maxlen)\n",
    "x_test = pad_sequences(x_test, maxlen=maxlen)"
   ]
  },
  {
   "cell_type": "code",
   "execution_count": 12,
   "id": "82ec765e",
   "metadata": {},
   "outputs": [
    {
     "name": "stdout",
     "output_type": "stream",
     "text": [
      "Model: \"sequential_5\"\n",
      "_________________________________________________________________\n",
      " Layer (type)                Output Shape              Param #   \n",
      "=================================================================\n",
      " embedding_6 (Embedding)     (None, 20, 8)             80000     \n",
      "                                                                 \n",
      " flatten_5 (Flatten)         (None, 160)               0         \n",
      "                                                                 \n",
      " dense_5 (Dense)             (None, 1)                 161       \n",
      "                                                                 \n",
      "=================================================================\n",
      "Total params: 80,161\n",
      "Trainable params: 80,161\n",
      "Non-trainable params: 0\n",
      "_________________________________________________________________\n",
      "Epoch 1/10\n",
      "625/625 [==============================] - 1s 1ms/step - loss: 0.6641 - acc: 0.6345 - val_loss: 0.6095 - val_acc: 0.6972\n",
      "Epoch 2/10\n",
      "625/625 [==============================] - 1s 866us/step - loss: 0.5359 - acc: 0.7518 - val_loss: 0.5263 - val_acc: 0.7324\n",
      "Epoch 3/10\n",
      "625/625 [==============================] - 1s 867us/step - loss: 0.4614 - acc: 0.7872 - val_loss: 0.5025 - val_acc: 0.7460\n",
      "Epoch 4/10\n",
      "625/625 [==============================] - 1s 883us/step - loss: 0.4242 - acc: 0.8083 - val_loss: 0.4958 - val_acc: 0.7526\n",
      "Epoch 5/10\n",
      "625/625 [==============================] - 1s 941us/step - loss: 0.3974 - acc: 0.8226 - val_loss: 0.4967 - val_acc: 0.7570\n",
      "Epoch 6/10\n",
      "625/625 [==============================] - 1s 857us/step - loss: 0.3751 - acc: 0.8367 - val_loss: 0.4993 - val_acc: 0.7602\n",
      "Epoch 7/10\n",
      "625/625 [==============================] - 1s 836us/step - loss: 0.3550 - acc: 0.8460 - val_loss: 0.5044 - val_acc: 0.7590\n",
      "Epoch 8/10\n",
      "625/625 [==============================] - 1s 847us/step - loss: 0.3366 - acc: 0.8572 - val_loss: 0.5114 - val_acc: 0.7564\n",
      "Epoch 9/10\n",
      "625/625 [==============================] - 1s 831us/step - loss: 0.3189 - acc: 0.8686 - val_loss: 0.5180 - val_acc: 0.7556\n",
      "Epoch 10/10\n",
      "625/625 [==============================] - 1s 853us/step - loss: 0.3023 - acc: 0.8755 - val_loss: 0.5273 - val_acc: 0.7514\n"
     ]
    }
   ],
   "source": [
    "from keras.models import Sequential\n",
    "from keras.layers import Flatten, Dense\n",
    "\n",
    "model = Sequential()\n",
    "model.add(Embedding(10000, 8, input_length=maxlen))\n",
    "model.add(Flatten())\n",
    "model.add(Dense(1, activation='sigmoid'))\n",
    "model.compile(optimizer='rmsprop', loss='binary_crossentropy', metrics=['acc'])\n",
    "model.summary()\n",
    "history = model.fit(x_train, y_train,\n",
    "epochs=10,\n",
    "batch_size=32,\n",
    "validation_split=0.2)"
   ]
  },
  {
   "cell_type": "markdown",
   "id": "563caabf",
   "metadata": {},
   "source": [
    "# DOWNLOADING THE IMDB DATA AS RAW TEXT"
   ]
  },
  {
   "cell_type": "code",
   "execution_count": 14,
   "id": "274511b3",
   "metadata": {},
   "outputs": [],
   "source": [
    "import os\n",
    "imdb_dir = '/Users/DELL/Desktop/-Deep-Learning-BWF-Shifa-Imran/Task31/aclImdb'\n",
    "train_dir = os.path.join(imdb_dir, 'train')\n",
    "labels = []\n",
    "texts = []\n",
    "for label_type in ['neg', 'pos']:\n",
    "    dir_name = os.path.join(train_dir, label_type)\n",
    "    for fname in os.listdir(dir_name):\n",
    "        if fname[-4:] == '.txt':\n",
    "            f = open(os.path.join(dir_name, fname), encoding='utf-8')\n",
    "            texts.append(f.read())\n",
    "            f.close()\n",
    "            if label_type == 'neg':\n",
    "                labels.append(0)\n",
    "            else:\n",
    "                labels.append(1)"
   ]
  },
  {
   "cell_type": "code",
   "execution_count": 16,
   "id": "644793e8",
   "metadata": {},
   "outputs": [
    {
     "name": "stdout",
     "output_type": "stream",
     "text": [
      "Found 88582 unique tokens.\n",
      "Shape of data tensor: (25000, 100)\n",
      "Shape of label tensor: (25000,)\n"
     ]
    }
   ],
   "source": [
    "from keras.preprocessing.text import Tokenizer\n",
    "from tensorflow.keras.preprocessing.sequence import pad_sequences\n",
    "import numpy as np\n",
    "\n",
    "maxlen = 100\n",
    "training_samples = 200\n",
    "validation_samples = 10000\n",
    "max_words = 10000\n",
    "\n",
    "tokenizer = Tokenizer(num_words=max_words)\n",
    "tokenizer.fit_on_texts(texts)\n",
    "sequences = tokenizer.texts_to_sequences(texts)\n",
    "\n",
    "word_index = tokenizer.word_index\n",
    "print('Found %s unique tokens.' % len(word_index))\n",
    "\n",
    "data = pad_sequences(sequences, maxlen=maxlen)\n",
    "labels = np.asarray(labels)\n",
    "print('Shape of data tensor:', data.shape)\n",
    "print('Shape of label tensor:', labels.shape)\n",
    "\n",
    "indices = np.arange(data.shape[0])\n",
    "np.random.shuffle(indices)\n",
    "data = data[indices]\n",
    "labels = labels[indices]\n",
    "\n",
    "x_train = data[:training_samples]\n",
    "y_train = labels[:training_samples]\n",
    "x_val = data[training_samples: training_samples + validation_samples]\n",
    "y_val = labels[training_samples: training_samples + validation_samples]"
   ]
  },
  {
   "cell_type": "code",
   "execution_count": 18,
   "id": "06b4a19a",
   "metadata": {},
   "outputs": [
    {
     "name": "stdout",
     "output_type": "stream",
     "text": [
      "Found 400000 word vectors.\n"
     ]
    }
   ],
   "source": [
    "glove_dir = '/Users/DELL/Desktop/-Deep-Learning-BWF-Shifa-Imran/Task31/glove.6B'\n",
    "embeddings_index = {}\n",
    "f = open(os.path.join(glove_dir, 'glove.6B.100d.txt'), encoding='utf-8')\n",
    "\n",
    "for line in f:\n",
    "    values = line.split()\n",
    "    word = values[0]\n",
    "    coefs = np.asarray(values[1:], dtype='float32')\n",
    "    embeddings_index[word] = coefs\n",
    "f.close()\n",
    "print('Found %s word vectors.' % len(embeddings_index))"
   ]
  },
  {
   "cell_type": "code",
   "execution_count": 19,
   "id": "9681817b",
   "metadata": {},
   "outputs": [],
   "source": [
    "embedding_dim = 100\n",
    "embedding_matrix = np.zeros((max_words, embedding_dim))\n",
    "for word, i in word_index.items():\n",
    "    if i < max_words:\n",
    "        embedding_vector = embeddings_index.get(word)\n",
    "        if embedding_vector is not None:\n",
    "            embedding_matrix[i] = embedding_vector"
   ]
  },
  {
   "cell_type": "code",
   "execution_count": 20,
   "id": "33f8ea6d",
   "metadata": {},
   "outputs": [
    {
     "name": "stdout",
     "output_type": "stream",
     "text": [
      "Model: \"sequential_6\"\n",
      "_________________________________________________________________\n",
      " Layer (type)                Output Shape              Param #   \n",
      "=================================================================\n",
      " embedding_7 (Embedding)     (None, 100, 100)          1000000   \n",
      "                                                                 \n",
      " flatten_6 (Flatten)         (None, 10000)             0         \n",
      "                                                                 \n",
      " dense_6 (Dense)             (None, 32)                320032    \n",
      "                                                                 \n",
      " dense_7 (Dense)             (None, 1)                 33        \n",
      "                                                                 \n",
      "=================================================================\n",
      "Total params: 1,320,065\n",
      "Trainable params: 1,320,065\n",
      "Non-trainable params: 0\n",
      "_________________________________________________________________\n"
     ]
    }
   ],
   "source": [
    "from keras.models import Sequential\n",
    "from keras.layers import Embedding, Flatten, Dense\n",
    "\n",
    "model = Sequential()\n",
    "model.add(Embedding(max_words, embedding_dim, input_length=maxlen))\n",
    "model.add(Flatten())\n",
    "model.add(Dense(32, activation='relu'))\n",
    "model.add(Dense(1, activation='sigmoid'))\n",
    "model.summary()\n",
    "\n",
    "model.layers[0].set_weights([embedding_matrix])\n",
    "model.layers[0].trainable = False"
   ]
  },
  {
   "cell_type": "code",
   "execution_count": 21,
   "id": "416495b7",
   "metadata": {},
   "outputs": [
    {
     "name": "stdout",
     "output_type": "stream",
     "text": [
      "Epoch 1/10\n",
      "7/7 [==============================] - 1s 95ms/step - loss: 1.7275 - acc: 0.5150 - val_loss: 0.6918 - val_acc: 0.4979\n",
      "Epoch 2/10\n",
      "7/7 [==============================] - 0s 77ms/step - loss: 0.6227 - acc: 0.6150 - val_loss: 0.7172 - val_acc: 0.4977\n",
      "Epoch 3/10\n",
      "7/7 [==============================] - 0s 69ms/step - loss: 0.5564 - acc: 0.6350 - val_loss: 0.6880 - val_acc: 0.5291\n",
      "Epoch 4/10\n",
      "7/7 [==============================] - 0s 68ms/step - loss: 0.5294 - acc: 0.7500 - val_loss: 0.7735 - val_acc: 0.4986\n",
      "Epoch 5/10\n",
      "7/7 [==============================] - 0s 72ms/step - loss: 0.5012 - acc: 0.6750 - val_loss: 0.7129 - val_acc: 0.5135\n",
      "Epoch 6/10\n",
      "7/7 [==============================] - 0s 69ms/step - loss: 0.4225 - acc: 0.7750 - val_loss: 0.7645 - val_acc: 0.5041\n",
      "Epoch 7/10\n",
      "7/7 [==============================] - 0s 70ms/step - loss: 0.3971 - acc: 0.7900 - val_loss: 1.0560 - val_acc: 0.4983\n",
      "Epoch 8/10\n",
      "7/7 [==============================] - 0s 73ms/step - loss: 0.3834 - acc: 0.8000 - val_loss: 2.8407 - val_acc: 0.4979\n",
      "Epoch 9/10\n",
      "7/7 [==============================] - 0s 70ms/step - loss: 0.5730 - acc: 0.7500 - val_loss: 0.7437 - val_acc: 0.5664\n",
      "Epoch 10/10\n",
      "7/7 [==============================] - 0s 69ms/step - loss: 0.0685 - acc: 1.0000 - val_loss: 0.7849 - val_acc: 0.5712\n"
     ]
    }
   ],
   "source": [
    "model.compile(optimizer='rmsprop',loss='binary_crossentropy',metrics=['acc'])\n",
    "history = model.fit(x_train, y_train,epochs=10,batch_size=32,validation_data=(x_val, y_val))\n",
    "model.save_weights('pre_trained_glove_model.h5')"
   ]
  },
  {
   "cell_type": "code",
   "execution_count": 22,
   "id": "84e67d8b",
   "metadata": {},
   "outputs": [
    {
     "data": {
      "image/png": "[encoded data removed]",
      "text/plain": [
       "<Figure size 432x288 with 1 Axes>"
      ]
     },
     "metadata": {
      "needs_background": "light"
     },
     "output_type": "display_data"
    },
    {
     "data": {
      "image/png": "[encoded data removed]",
      "text/plain": [
       "<Figure size 432x288 with 1 Axes>"
      ]
     },
     "metadata": {
      "needs_background": "light"
     },
     "output_type": "display_data"
    }
   ],
   "source": [
    "import matplotlib.pyplot as plt\n",
    "acc = history.history['acc']\n",
    "val_acc = history.history['val_acc']\n",
    "loss = history.history['loss']\n",
    "val_loss = history.history['val_loss']\n",
    "\n",
    "epochs = range(1, len(acc) + 1)\n",
    "\n",
    "plt.plot(epochs, acc, 'bo', label='Training acc')\n",
    "plt.plot(epochs, val_acc, 'b', label='Validation acc')\n",
    "plt.title('Training and validation accuracy')\n",
    "plt.legend()\n",
    "plt.figure()\n",
    "\n",
    "plt.plot(epochs, loss, 'bo', label='Training loss')\n",
    "plt.plot(epochs, val_loss, 'b', label='Validation loss')\n",
    "plt.title('Training and validation loss')\n",
    "plt.legend()\n",
    "plt.show()"
   ]
  },
  {
   "cell_type": "code",
   "execution_count": null,
   "id": "98121564",
   "metadata": {},
   "outputs": [],
   "source": []
  }
 ],
 "metadata": {
  "kernelspec": {
   "display_name": "Python 3 (ipykernel)",
   "language": "python",
   "name": "python3"
  },
  "language_info": {
   "codemirror_mode": {
    "name": "ipython",
    "version": 3
   },
   "file_extension": ".py",
   "mimetype": "text/x-python",
   "name": "python",
   "nbconvert_exporter": "python",
   "pygments_lexer": "ipython3",
   "version": "3.9.12"
  }
 },
 "nbformat": 4,
 "nbformat_minor": 5
}
