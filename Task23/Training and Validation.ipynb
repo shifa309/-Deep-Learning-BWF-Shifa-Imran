{
 "cells": [
  {
   "cell_type": "markdown",
   "id": "946c515f",
   "metadata": {},
   "source": [
    "Training Set:\n",
    "The training set is the portion of the data that is used to train the machine learning model. It contains labeled data, where the input features and output labels are known. The model is trained on the training set, and its performance is evaluated on the validation and test sets.\n",
    "\n",
    "Validation Set:\n",
    "The validation set is a portion of the data that is used to evaluate the performance of the model during the training process. It is used to fine-tune the model's hyperparameters, such as learning rate, regularization, and activation functions, to improve the model's accuracy on the test set.\n",
    "\n",
    "Test Set:\n",
    "The test set is the portion of the data that is used to evaluate the performance of the model after training. It is used to simulate real-world scenarios and determine how well the model performs on new, unseen data."
   ]
  },
  {
   "cell_type": "markdown",
   "id": "da3c0669",
   "metadata": {},
   "source": [
    "Hold-Out Validation is a technique used in machine learning to evaluate the performance of a model on unseen data. It involves splitting the available data into a training set and a validation set, where the training set is used to train the model, and the validation set is used to evaluate the model's performance."
   ]
  },
  {
   "cell_type": "code",
   "execution_count": null,
   "id": "ef6bf62d",
   "metadata": {},
   "outputs": [],
   "source": [
    "import numpy as np\n",
    "from sklearn.model_selection import train_test_split\n",
    "\n",
    "# Load any dataset\n",
    "data = np.load(\"data.npy\")\n",
    "labels = np.load(\"labels.npy\")\n",
    "#usually testing set is given sepaarate but if only 1 set is given u can split it in into training validation and testing set\n",
    "\n",
    "# Split data into training, validation, and test sets\n",
    "train_data, test_data, train_labels, test_labels = train_test_split(\n",
    "    data, labels, test_size=0.2, random_state=42)\n",
    "\n",
    "train_data, val_data, train_labels, val_labels = train_test_split(\n",
    "    train_data, train_labels, test_size=0.25, random_state=42)\n",
    "\n",
    "# Train model on training set\n",
    "model = get_model()\n",
    "model.fit(train_data, train_labels)\n",
    "\n",
    "# Evaluate model on validation set\n",
    "val_score = model.evaluate(val_data, val_labels)\n",
    "\n",
    "# Tune model based on validation performance\n",
    "model = tune_model(model)\n",
    "\n",
    "# Train model on concatenated training and validation sets\n",
    "train_data = np.concatenate([train_data, val_data])\n",
    "train_labels = np.concatenate([train_labels, val_labels])\n",
    "model.fit(train_data, train_labels)\n",
    "\n",
    "# Evaluate model on test set\n",
    "test_score = model.evaluate(test_data, test_labels)\n"
   ]
  },
  {
   "cell_type": "code",
   "execution_count": null,
   "id": "8d7b65d0",
   "metadata": {},
   "outputs": [],
   "source": [
    "#Kfold cross validation\n",
    "\n",
    "num_validation_samples = 10000\n",
    "K = 5\n",
    "validation_scores = []\n",
    "\n",
    "# Shuffle data\n",
    "np.random.shuffle(data)\n",
    "\n",
    "# Split data into K folds and train/evaluate model K times\n",
    "for fold in range(K):\n",
    "    # Define validation and training data for current fold\n",
    "    validation_data = data[num_validation_samples * fold: num_validation_samples * (fold + 1)]\n",
    "    training_data = np.concatenate([data[:num_validation_samples * fold], \n",
    "                                     data[num_validation_samples * (fold + 1):]])\n",
    "    \n",
    "    # Train model on training data\n",
    "    model = get_model()\n",
    "    model.fit(training_data)\n",
    "    \n",
    "    # Evaluate model on validation data\n",
    "    validation_score = model.evaluate(validation_data)\n",
    "    validation_scores.append(validation_score)\n",
    "\n",
    "# Compute average validation score\n",
    "avg_validation_score = np.mean(validation_scores)\n"
   ]
  },
  {
   "cell_type": "code",
   "execution_count": 3,
   "id": "8d8db388",
   "metadata": {},
   "outputs": [
    {
     "name": "stdout",
     "output_type": "stream",
     "text": [
      "Average validation score: 0.3333333333333333\n"
     ]
    }
   ],
   "source": [
    "import numpy as np\n",
    "from sklearn.linear_model import LogisticRegression\n",
    "\n",
    "\n",
    "# Define (features) and (labels)\n",
    "X = np.array([[1, 2], [2, 3], [3, 4], [4, 5], [5, 6]])\n",
    "y = np.array([0, 1, 0, 1, 0])\n",
    "\n",
    "K = 3\n",
    "\n",
    "validation_scores = np.zeros(K)\n",
    "\n",
    "# Shuffle data and split into K folds\n",
    "indices = np.random.permutation(len(X))\n",
    "fold_sizes = np.full(K, len(X) // K)\n",
    "fold_sizes[:len(X) % K] += 1\n",
    "current = 0\n",
    "\n",
    "\n",
    "for i in range(K):\n",
    "    # Define validation and training indices for current fold\n",
    "    validation_indices = indices[current:current+fold_sizes[i]]\n",
    "    training_indices = np.concatenate((indices[:current], indices[current+fold_sizes[i]:]))\n",
    "    \n",
    "    # Define training and validation data for current fold\n",
    "    X_train, y_train = X[training_indices], y[training_indices]\n",
    "    X_val, y_val = X[validation_indices], y[validation_indices]\n",
    "    \n",
    "    # Train logistic regression model on training data\n",
    "    model = LogisticRegression(max_iter=1000)\n",
    "    model.fit(X_train, y_train)\n",
    "    \n",
    "    # Evaluate model on validation data and store validation score\n",
    "    validation_score = model.score(X_val, y_val)\n",
    "    validation_scores[i] = validation_score\n",
    "    \n",
    "    # Update current index for next fold\n",
    "    current += fold_sizes[i]\n",
    "\n",
    "# Compute and print average validation score\n",
    "avg_validation_score = np.mean(validation_scores)\n",
    "print(\"Average validation score:\", avg_validation_score)\n"
   ]
  },
  {
   "cell_type": "code",
   "execution_count": null,
   "id": "c46a75d7",
   "metadata": {},
   "outputs": [],
   "source": []
  }
 ],
 "metadata": {
  "kernelspec": {
   "display_name": "Python 3 (ipykernel)",
   "language": "python",
   "name": "python3"
  },
  "language_info": {
   "codemirror_mode": {
    "name": "ipython",
    "version": 3
   },
   "file_extension": ".py",
   "mimetype": "text/x-python",
   "name": "python",
   "nbconvert_exporter": "python",
   "pygments_lexer": "ipython3",
   "version": "3.9.12"
  }
 },
 "nbformat": 4,
 "nbformat_minor": 5
}
